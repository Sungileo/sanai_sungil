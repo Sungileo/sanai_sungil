{
  "cells": [
    {
      "cell_type": "raw",
      "metadata": {},
      "source": [
        "---\n",
        "title : \"할리스커피 크롤링\"\n",
        "date: \"2024/04/01\"\n",
        "description: \"전국의 할리스커피 매장을 알아보아요~ / 정적 크롤링 / 지오코딩\"\n",
        "categories: python\n",
        "author: \"Sungil Park\"\n",
        "---"
      ],
      "id": "27cea633"
    },
    {
      "cell_type": "code",
      "metadata": {},
      "source": [
        "import pandas as pd\n",
        "import requests\n",
        "from bs4 import BeautifulSoup\n",
        "import googlemaps\n",
        "import plotly.graph_objs as go\n",
        "import folium\n",
        "from folium import CircleMarker"
      ],
      "id": "4d9fb859",
      "execution_count": null,
      "outputs": []
    },
    {
      "cell_type": "code",
      "metadata": {},
      "source": [
        "hollys = pd.read_csv(\"/home/sungil/PythonSimhwa/hollys.csv\")"
      ],
      "id": "8281fb8b",
      "execution_count": null,
      "outputs": []
    },
    {
      "cell_type": "code",
      "metadata": {},
      "source": [
        "hollys = []\n",
        "max_page = 51\n",
        "bar_length = 50\n",
        "\n",
        "for pageNo in range(1,max_page):\n",
        "    url_base=\"https://www.hollys.co.kr/store/korea/korStore2.do\"\n",
        "    url_search=url_base+\"?pageNo=\"+str(pageNo)\n",
        "\n",
        "    req = requests.get(url_search)\n",
        "    html = req.text\n",
        "    store = BeautifulSoup(html,'html.parser')\n",
        "    store_tbody = store.find_all('tbody')\n",
        "    store_tr = store_tbody[0].find_all('tr')\n",
        "\n",
        "    n_rows = len(store_tr)\n",
        "    for i in range(n_rows):\n",
        "        store_temp = store_tr[i].find_all('td')\n",
        "        loca = store_temp[0].string\n",
        "        locas = loca.split(\" \")\n",
        "        hollys.append({\n",
        "            \"지역\":locas[0],\n",
        "            \"시군구\":locas[1],\n",
        "            '매장명':store_temp[1].string,\t\n",
        "            '현황':store_temp[2].string,\t\n",
        "            '주소':store_temp[3].string,\t\n",
        "            '전화번호':store_temp[5].string\n",
        "        })\n",
        "\n",
        "    progress = (pageNo+1)/max_page\n",
        "    loaded_length = int(bar_length * progress)\n",
        "    bar = '=' * loaded_length + '-' * (bar_length - loaded_length)\n",
        "    percent = int(progress * 100)\n",
        "\n",
        "    print(f'\\r[{bar}] {percent}%', end='', flush=True)\n",
        "\n",
        "print('\\n완료!')\n",
        "hollys = pd.DataFrame(hollys)\n",
        "hollys.head()"
      ],
      "id": "e1c4223b",
      "execution_count": null,
      "outputs": []
    },
    {
      "cell_type": "code",
      "metadata": {},
      "source": [
        "hollys.iloc[:,:-2].head()"
      ],
      "id": "3444d082",
      "execution_count": null,
      "outputs": []
    },
    {
      "cell_type": "code",
      "metadata": {},
      "source": [
        "API_KEY = 'My_Googlemap_API'\n",
        "gmaps = googlemaps.Client(key=API_KEY)\n",
        "\n",
        "def googlegeocode(x):\n",
        "    temp = gmaps.geocode(x)\n",
        "    lat,lon = temp[0][\"geometry\"][\"location\"][\"lat\"],temp[0][\"geometry\"][\"location\"][\"lng\"]\n",
        "    return lat, lon\n",
        "\n",
        "hollys.loc[:,\"lat\"], hollys.loc[:,\"lon\"] = zip(*hollys['주소'].apply(googlegeocode))"
      ],
      "id": "6cf8d4d9",
      "execution_count": null,
      "outputs": []
    },
    {
      "cell_type": "code",
      "metadata": {},
      "source": [
        "hollys.head()"
      ],
      "id": "5c17387a",
      "execution_count": null,
      "outputs": []
    },
    {
      "cell_type": "code",
      "metadata": {},
      "source": [
        "hollys_num = hollys[\"지역\"].value_counts().reset_index()\n",
        "hollys_num = pd.DataFrame(hollys_num)\n",
        "hollys_num.columns =[\"지역\", \"count\"]\n",
        "hollys_num\n",
        "\n",
        "hollys_num = hollys_num.sort_values(\"count\",ascending=True)\n",
        "regions = hollys_num[\"지역\"]\n",
        "store_counts = hollys_num[\"count\"]\n",
        "\n",
        "fig = go.Figure(data=[go.Bar(x=store_counts, y=regions, orientation='h',marker_color = \"#ba000e\")])\n",
        "\n",
        "fig.update_layout(\n",
        "    title='지역별 매장 수',\n",
        "    xaxis_title='매장 수',\n",
        "    yaxis_title='지역',\n",
        "    plot_bgcolor='white',\n",
        "    xaxis_showgrid = True,\n",
        "    yaxis_showgrid = True,\n",
        "    xaxis_gridcolor = \"lightgray\",\n",
        "    xaxis_dtick = 10\n",
        ")\n",
        "fig.update_traces(\n",
        "    hoverinfo='text',\n",
        "    hovertext=[f'<b>{count}, {region}</b>' for count, region in zip(store_counts, regions)],\n",
        "    hoverlabel_bgcolor = \"black\",\n",
        ")\n",
        "\n",
        "\n",
        "fig.show()"
      ],
      "id": "301a7deb",
      "execution_count": null,
      "outputs": []
    },
    {
      "cell_type": "code",
      "metadata": {},
      "source": [
        "M = folium.Map(location=[36.807438,127.144504], zoom_start=7,tiles=\"Cartodb Positron\")\n",
        "\n",
        "for idx, row in hollys.iterrows():\n",
        "    CircleMarker(location = [row['lat'], row['lon']],\n",
        "           radius=30,\n",
        "           tooltip=row[\"매장명\"],\n",
        "           color = \"#ba000e\",\n",
        "           fill = True,\n",
        "           fill_opacity=0.6,\n",
        "           opacity=1\n",
        "           ).add_to(M)\n",
        "\n",
        "M"
      ],
      "id": "d931c664",
      "execution_count": null,
      "outputs": []
    }
  ],
  "metadata": {
    "kernelspec": {
      "name": "python3",
      "language": "python",
      "display_name": "Python 3 (ipykernel)"
    }
  },
  "nbformat": 4,
  "nbformat_minor": 5
}